{
  "nbformat": 4,
  "nbformat_minor": 0,
  "metadata": {
    "colab": {
      "provenance": []
    },
    "kernelspec": {
      "name": "python3",
      "display_name": "Python 3"
    },
    "language_info": {
      "name": "python"
    }
  },
  "cells": [
    {
      "cell_type": "markdown",
      "source": [
        "#                                     ***CLASS ASSIGNMENT***\n",
        "---\n",
        "\n",
        "\n"
      ],
      "metadata": {
        "id": "40eCH2G1SfVq"
      }
    },
    {
      "cell_type": "code",
      "execution_count": null,
      "metadata": {
        "id": "k6P9vmT6G07Q"
      },
      "outputs": [],
      "source": [
        "k_electric = \"on_k_electric\"\n",
        "ups = \"off_ups\""
      ]
    },
    {
      "cell_type": "markdown",
      "source": [
        "# **\"AND CONDITION\"**"
      ],
      "metadata": {
        "id": "ONxIEzR9IU4s"
      }
    },
    {
      "cell_type": "code",
      "source": [
        "# Agr sari conditions \"True\" hui or ek b \"False\" hui toh output (\"FALSE\") ayga.."
      ],
      "metadata": {
        "id": "E7-98GO0IiYr"
      },
      "execution_count": null,
      "outputs": []
    },
    {
      "cell_type": "code",
      "source": [
        "print(k_electric != ups and k_electric == ups)\n",
        "print(k_electric == ups and k_electric != ups)\n",
        "print(k_electric == ups and k_electric == ups)\n",
        "print(k_electric != ups and k_electric != ups)\n",
        "\n",
        "k_electric = \"off_k_electric\"\n",
        "ups = \"on_ups\"\n",
        "\n",
        "print(k_electric == ups and k_electric == ups)\n",
        "print(k_electric == ups and k_electric != ups)\n",
        "print(k_electric != ups and k_electric != ups)"
      ],
      "metadata": {
        "colab": {
          "base_uri": "https://localhost:8080/"
        },
        "id": "cDFIiRnzJB23",
        "outputId": "0720dd85-e914-4901-e535-d49aa73df926"
      },
      "execution_count": 12,
      "outputs": [
        {
          "output_type": "stream",
          "name": "stdout",
          "text": [
            "False\n",
            "False\n",
            "False\n",
            "True\n",
            "False\n",
            "False\n",
            "True\n"
          ]
        }
      ]
    },
    {
      "cell_type": "markdown",
      "source": [
        "# **\"OR CONDITION\"**"
      ],
      "metadata": {
        "id": "VkdcG6CCMY1F"
      }
    },
    {
      "cell_type": "code",
      "source": [
        "# Agr ek b condition \"True \" hui toh output (\"TRUE\") ayga.. qky \"OR\" srf true wali conditions accept krta hai.."
      ],
      "metadata": {
        "id": "RVEdLawHMoP7"
      },
      "execution_count": 1,
      "outputs": []
    },
    {
      "cell_type": "code",
      "source": [
        "k_electric = \"on_k_electric\"\n",
        "ups = \"off_ups\"\n",
        "\n",
        "print(k_electric == ups or k_electric == ups)\n",
        "print(k_electric == ups or k_electric != ups)\n",
        "print(k_electric != ups or k_electric != ups)\n",
        "\n",
        "k_electric = \"off_k_electric\"\n",
        "ups = \"on_ups\"\n",
        "\n",
        "print(k_electric == ups or k_electric == ups)\n",
        "print(k_electric == ups or k_electric != ups)\n",
        "print(k_electric != ups or k_electric != ups)\n",
        "\n"
      ],
      "metadata": {
        "colab": {
          "base_uri": "https://localhost:8080/"
        },
        "id": "0MsExdeINEpp",
        "outputId": "4c238585-2e65-4695-f5bc-cb44b9353c2f"
      },
      "execution_count": 13,
      "outputs": [
        {
          "output_type": "stream",
          "name": "stdout",
          "text": [
            "False\n",
            "True\n",
            "True\n",
            "False\n",
            "True\n",
            "True\n"
          ]
        }
      ]
    },
    {
      "cell_type": "markdown",
      "source": [
        "# **\"NOT CONDITION\"**"
      ],
      "metadata": {
        "id": "wFtaOIWpOnic"
      }
    },
    {
      "cell_type": "code",
      "source": [
        "# Agr condition \"TRUE\" hui toh \"FALSE\"  hjygi or agr \"FALSE\" hui toh \"TRUE\" hjygii.. qky \"NOT CONDITION\" reverse output deta ha..\n"
      ],
      "metadata": {
        "id": "dCs3FW6hOyqV"
      },
      "execution_count": null,
      "outputs": []
    },
    {
      "cell_type": "code",
      "source": [
        "k_electric =\"on_k_electric\"\n",
        "k_electric =\"on_k_electric\"\n",
        "k_electric =\"on_k_electric\"\n",
        "k_electric =\"on_k_electric\"\n",
        "ups = \"off_ups\"\n",
        "\n",
        "print(k_electric == ups and not k_electric != ups)\n",
        "print(k_electric == ups and not k_electric == ups)\n",
        "print(k_electric != ups and not k_electric != ups)\n",
        "print(k_electric == ups or not k_electric == ups)\n",
        "print(k_electric == ups or not k_electric != ups)\n",
        "print(k_electric != ups or not k_electric != ups)\n",
        "print(k_electric == ups or not k_electric == ups)\n",
        "print(k_electric == ups or not k_electric != ups)\n",
        "print(k_electric != ups or not k_electric != ups)\n"
      ],
      "metadata": {
        "colab": {
          "base_uri": "https://localhost:8080/"
        },
        "id": "TrSIlH5XOTIa",
        "outputId": "ecd42d01-e797-4f6e-c450-3ce073eefff1"
      },
      "execution_count": 11,
      "outputs": [
        {
          "output_type": "stream",
          "name": "stdout",
          "text": [
            "False\n",
            "False\n",
            "False\n",
            "True\n",
            "False\n",
            "True\n",
            "True\n",
            "False\n",
            "True\n"
          ]
        }
      ]
    }
  ]
}